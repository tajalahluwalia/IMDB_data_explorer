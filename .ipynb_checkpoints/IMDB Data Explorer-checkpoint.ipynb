{
 "cells": [
  {
   "cell_type": "markdown",
   "id": "4b654f94",
   "metadata": {},
   "source": [
    "### IMDB Datasets downloaded from https://datasets.imdbws.com"
   ]
  },
  {
   "cell_type": "markdown",
   "id": "836cfeb0",
   "metadata": {},
   "source": [
    "## schema definition at https://www.imdb.com/interfaces/\n",
    "\n",
    "### title.akas.tsv.gz - Contains the following information for titles:\n",
    "1. titleId (string) - a tconst, an alphanumeric unique identifier of the title\n",
    "1. ordering (integer) – a number to uniquely identify rows for a given titleId\n",
    "1. title (string) – the localized title\n",
    "1. region (string) - the region for this version of the title\n",
    "1. language (string) - the language of the title\n",
    "1. types (array) - Enumerated set of attributes for this alternative title. One or more of the following: \"alternative\", \"dvd\", \"festival\", \"tv\", \"video\", \"working\", \"original\", \"imdbDisplay\". New values may be added in the future without warning\n",
    "1. attributes (array) - Additional terms to describe this alternative title, not enumerated\n",
    "1. isOriginalTitle (boolean) – 0: not original title; 1: original title\n",
    "\n",
    "### title.basics.tsv.gz - Contains the following information for titles:\n",
    "1. tconst (string) - alphanumeric unique identifier of the title\n",
    "1. titleType (string) – the type/format of the title (e.g. movie, short, tvseries, tvepisode, video, etc)\n",
    "1. primaryTitle (string) – the more popular title / the title used by the filmmakers on promotional materials at the point of release\n",
    "1. originalTitle (string) - original title, in the original language\n",
    "1. isAdult (boolean) - 0: non-adult title; 1: adult title\n",
    "1. startYear (YYYY) – represents the release year of a title. In the case of TV Series, it is the series start year\n",
    "1. endYear (YYYY) – TV Series end year. ‘\\N’ for all other title types\n",
    "1. runtimeMinutes – primary runtime of the title, in minutes\n",
    "1. genres (string array) – includes up to three genres associated with the title\n",
    "\n",
    "### title.crew.tsv.gz – Contains the director and writer information for all the titles in IMDb. Fields include:\n",
    "1. tconst (string) - alphanumeric unique identifier of the title\n",
    "1. directors (array of nconsts) - director(s) of the given title\n",
    "1. writers (array of nconsts) – writer(s) of the given title\n",
    "\n",
    "### title.episode.tsv.gz – Contains the tv episode information. Fields include:\n",
    "1. tconst (string) - alphanumeric identifier of episode\n",
    "1. parentTconst (string) - alphanumeric identifier of the parent TV Series\n",
    "1. seasonNumber (integer) – season number the episode belongs to\n",
    "1. episodeNumber (integer) – episode number of the tconst in the TV series\n",
    "\n",
    "### title.principals.tsv.gz – Contains the principal cast/crew for titles\n",
    "1. tconst (string) - alphanumeric unique identifier of the title\n",
    "1. ordering (integer) – a number to uniquely identify rows for a given titleId\n",
    "1. nconst (string) - alphanumeric unique identifier of the name/person\n",
    "1. category (string) - the category of job that person was in\n",
    "1. job (string) - the specific job title if applicable, else '\\N'\n",
    "1. characters (string) - the name of the character played if applicable, else '\\N'\n",
    "\n",
    "### title.ratings.tsv.gz – Contains the IMDb rating and votes information for titles\n",
    "1. tconst (string) - alphanumeric unique identifier of the title\n",
    "1. averageRating – weighted average of all the individual user ratings\n",
    "1. numVotes - number of votes the title has received\n",
    "\n",
    "### name.basics.tsv.gz – Contains the following information for names:\n",
    "1. nconst (string) - alphanumeric unique identifier of the name/person\n",
    "1. primaryName (string)– name by which the person is most often credited\n",
    "1. birthYear – in YYYY format\n",
    "1. deathYear – in YYYY format if applicable, else '\\N'\n",
    "1. primaryProfession (array of strings)– the top-3 professions of the person\n",
    "1. knownForTitles (array of tconsts) – titles the person is known for"
   ]
  },
  {
   "cell_type": "markdown",
   "id": "1399ec04",
   "metadata": {},
   "source": [
    "## Import data into local in-memory server"
   ]
  },
  {
   "cell_type": "code",
   "execution_count": 2,
   "id": "4a85515c",
   "metadata": {},
   "outputs": [],
   "source": [
    "import pandas as pd"
   ]
  },
  {
   "cell_type": "code",
   "execution_count": null,
   "id": "3609a1d9",
   "metadata": {},
   "outputs": [],
   "source": [
    "name_basics_raw = pd.read_csv(\"compressed_tsv/name.basics.tsv.gz\" , sep='\\t')\n",
    "episode_raw = pd.read_csv(\"compressed_tsv/title.episode.tsv.gz\" , sep='\\t')\n",
    "ratings_raw = pd.read_csv(\"compressed_tsv/title.ratings.tsv.gz\" , sep='\\t')\n",
    "crew_raw = pd.read_csv(\"compressed_tsv/title.crew.tsv.gz\" , sep='\\t')\n",
    "title_basics_raw = pd.read_csv(\"compressed_tsv/title.basics.tsv.gz\" , sep='\\t')\n",
    "akas_raw = pd.read_csv(\"compressed_tsv/title.akas.tsv.gz\" , sep='\\t')\n",
    "principals_raw = pd.read_csv(\"compressed_tsv/title.principals.tsv.gz\" , sep='\\t')"
   ]
  },
  {
   "cell_type": "code",
   "execution_count": null,
   "id": "f4d98c0b",
   "metadata": {},
   "outputs": [],
   "source": []
  },
  {
   "cell_type": "code",
   "execution_count": null,
   "id": "de545dd9",
   "metadata": {},
   "outputs": [],
   "source": []
  },
  {
   "cell_type": "code",
   "execution_count": null,
   "id": "18085d00",
   "metadata": {},
   "outputs": [],
   "source": []
  },
  {
   "cell_type": "code",
   "execution_count": null,
   "id": "5717012a",
   "metadata": {},
   "outputs": [],
   "source": []
  },
  {
   "cell_type": "code",
   "execution_count": null,
   "id": "9b44a336",
   "metadata": {},
   "outputs": [],
   "source": []
  },
  {
   "cell_type": "code",
   "execution_count": null,
   "id": "efcdf41f",
   "metadata": {},
   "outputs": [],
   "source": [
    "from bs4 import BeautifulSoup\n",
    "import requests\n",
    "import re\n",
    " \n",
    " \n",
    "# Downloading imdb top 250 movie's data\n",
    "url = 'https://www.imdb.com/search/title/?countries=in&locations=India&count=250'\n",
    "response = requests.get(url)\n",
    "soup = BeautifulSoup(response.text, 'lxml')"
   ]
  },
  {
   "cell_type": "code",
   "execution_count": null,
   "id": "0eddd548",
   "metadata": {},
   "outputs": [],
   "source": []
  },
  {
   "cell_type": "code",
   "execution_count": null,
   "id": "1c798bba",
   "metadata": {},
   "outputs": [],
   "source": []
  },
  {
   "cell_type": "code",
   "execution_count": null,
   "id": "68ea4828",
   "metadata": {},
   "outputs": [],
   "source": []
  },
  {
   "cell_type": "code",
   "execution_count": null,
   "id": "421bfb2e",
   "metadata": {},
   "outputs": [],
   "source": []
  },
  {
   "cell_type": "code",
   "execution_count": null,
   "id": "d53114de",
   "metadata": {},
   "outputs": [],
   "source": [
    "from bs4 import BeautifulSoup\n",
    "import requests\n",
    "import re\n",
    " \n",
    " \n",
    "# Downloading imdb top 250 movie's data\n",
    "url = 'http://www.imdb.com/chart/top'\n",
    "response = requests.get(url)\n",
    "soup = BeautifulSoup(response.text, 'lxml')\n",
    " \n",
    "movies = soup.select('h3.lister-item-header')\n",
    "links = [a.attrs.get('href') for a in soup.select('td.titleColumn a')]\n",
    "crew = [a.attrs.get('title') for a in soup.select('td.titleColumn a')]\n",
    " \n",
    "ratings = [b.attrs.get('data-value')\n",
    "           for b in soup.select('td.posterColumn span[name=ir]')]\n",
    " \n",
    "votes = [b.attrs.get('data-value')\n",
    "         for b in soup.select('td.ratingColumn strong')]\n",
    " \n",
    "list = []\n",
    " \n",
    "# create a empty list for storing\n",
    "# movie information\n",
    "list = []\n",
    " \n",
    "# Iterating over movies to extract\n",
    "# each movie's details\n",
    "for index in range(0, len(movies)):\n",
    "     \n",
    "    # Separating  movie into: 'place',\n",
    "    # 'title', 'year'\n",
    "    movie_string = movies[index].get_text()\n",
    "    movie = (' '.join(movie_string.split()).replace('.', ''))\n",
    "    movie_title = movie[len(str(index))+1:-7]\n",
    "    year = re.search('\\((.*?)\\)', movie_string).group(1)\n",
    "    place = movie[:len(str(index))-(len(movie))]\n",
    "    data = {\"movie_title\": movie_title,\n",
    "            \"year\": year,\n",
    "            \"place\": place,\n",
    "            \"star_cast\": crew[index],\n",
    "            \"rating\": ratings[index],\n",
    "            \"vote\": votes[index],\n",
    "            \"link\": links[index]}\n",
    "    list.append(data)\n",
    " \n",
    "# printing movie details with its rating.\n",
    "for movie in list:\n",
    "    print(movie['place'], '-', movie['movie_title'], '('+movie['year'] +\n",
    "          ') -', 'Starring:', movie['star_cast'], movie['rating'])"
   ]
  },
  {
   "cell_type": "code",
   "execution_count": null,
   "id": "5a377ba4",
   "metadata": {},
   "outputs": [],
   "source": [
    "movies"
   ]
  },
  {
   "cell_type": "code",
   "execution_count": null,
   "id": "d15eaf2f",
   "metadata": {},
   "outputs": [],
   "source": []
  }
 ],
 "metadata": {
  "kernelspec": {
   "display_name": "Python 3",
   "language": "python",
   "name": "python3"
  },
  "language_info": {
   "codemirror_mode": {
    "name": "ipython",
    "version": 3
   },
   "file_extension": ".py",
   "mimetype": "text/x-python",
   "name": "python",
   "nbconvert_exporter": "python",
   "pygments_lexer": "ipython3",
   "version": "3.8.8"
  }
 },
 "nbformat": 4,
 "nbformat_minor": 5
}
