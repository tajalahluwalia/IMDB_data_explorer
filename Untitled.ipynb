{
 "cells": [
  {
   "cell_type": "markdown",
   "id": "4b654f94",
   "metadata": {},
   "source": [
    "#### IMDB Datasets downloaded from https://datasets.imdbws.com"
   ]
  },
  {
   "cell_type": "code",
   "execution_count": 86,
   "id": "781b66bc",
   "metadata": {},
   "outputs": [],
   "source": [
    "import pandas as pd\n",
    "import matplotlib.pyplot as plt"
   ]
  },
  {
   "cell_type": "markdown",
   "id": "73dc7300",
   "metadata": {},
   "source": [
    "### Read the csv into dataframes"
   ]
  },
  {
   "cell_type": "code",
   "execution_count": 24,
   "id": "f0d7788a",
   "metadata": {},
   "outputs": [],
   "source": [
    "name_basics_raw = pd.read_csv(\"IMDB_Database/data-5.tsv\", sep='\\t', low_memory=False)\n",
    "episode_raw = pd.read_csv(\"IMDB_Database/data.tsv\", sep='\\t', low_memory=False)\n",
    "ratings_raw = pd.read_csv(\"IMDB_Database/data-2.tsv\", sep='\\t', low_memory=False)\n",
    "crew_raw = pd.read_csv(\"IMDB_Database/data-3.tsv\", sep='\\t', low_memory=False)\n",
    "title_basics_raw = pd.read_csv(\"IMDB_Database/data-4.tsv\", sep='\\t', low_memory=False)\n",
    "akas_raw = pd.read_csv(\"IMDB_Database/data-6.tsv\", sep='\\t', low_memory=False)\n",
    "principals_raw = pd.read_csv(\"IMDB_Database/data-7.tsv\", sep='\\t', low_memory=False)"
   ]
  },
  {
   "cell_type": "code",
   "execution_count": 79,
   "id": "b43ecb75",
   "metadata": {},
   "outputs": [],
   "source": [
    "name_basics_s = name_basics.sample(n = 50000) \n",
    "episode_s = episode.sample(n = 50000) \n",
    "ratings_s = ratings.sample(n = 50000) \n",
    "crew_s = crew.sample(n = 50000) \n",
    "title_basics_s = title_basics.sample(n = 50000) \n",
    "akas_s = akas.sample(n = 50000) \n",
    "principals_s = principals.sample(n = 50000) "
   ]
  },
  {
   "cell_type": "code",
   "execution_count": null,
   "id": "9d983158",
   "metadata": {},
   "outputs": [],
   "source": []
  },
  {
   "cell_type": "code",
   "execution_count": 66,
   "id": "4cfa69e4",
   "metadata": {},
   "outputs": [
    {
     "name": "stdout",
     "output_type": "stream",
     "text": [
      "shape of name_basics :  (11192370, 6)\n",
      "shape of episode :  (6032519, 4)\n",
      "shape of ratings :  (1182837, 3)\n",
      "shape of crew :  (8227753, 3)\n",
      "shape of title_basics :  (8227753, 9)\n",
      "shape of akas :  (28940198, 8)\n",
      "shape of principals :  (46561839, 6)\n"
     ]
    }
   ],
   "source": [
    "print(\"shape of name_basics : \" , name_basics.shape)\n",
    "print(\"shape of episode : \" , episode.shape)\n",
    "print(\"shape of ratings : \" , ratings.shape)\n",
    "print(\"shape of crew : \" , crew.shape)\n",
    "print(\"shape of title_basics : \" , title_basics.shape)\n",
    "print(\"shape of akas : \" , akas.shape)\n",
    "print(\"shape of principals : \" , principals.shape)"
   ]
  },
  {
   "cell_type": "markdown",
   "id": "836cfeb0",
   "metadata": {},
   "source": [
    "### title.akas.tsv.gz - Contains the following information for titles:\n",
    "1. titleId (string) - a tconst, an alphanumeric unique identifier of the title\n",
    "1. ordering (integer) – a number to uniquely identify rows for a given titleId\n",
    "1. title (string) – the localized title\n",
    "1. region (string) - the region for this version of the title\n",
    "1. language (string) - the language of the title\n",
    "1. types (array) - Enumerated set of attributes for this alternative title. One or more of the following: \"alternative\", \"dvd\", \"festival\", \"tv\", \"video\", \"working\", \"original\", \"imdbDisplay\". New values may be added in the future without warning\n",
    "1. attributes (array) - Additional terms to describe this alternative title, not enumerated\n",
    "1. isOriginalTitle (boolean) – 0: not original title; 1: original title\n",
    "\n",
    "### title.basics.tsv.gz - Contains the following information for titles:\n",
    "1. tconst (string) - alphanumeric unique identifier of the title\n",
    "1. titleType (string) – the type/format of the title (e.g. movie, short, tvseries, tvepisode, video, etc)\n",
    "1. primaryTitle (string) – the more popular title / the title used by the filmmakers on promotional materials at the point of release\n",
    "1. originalTitle (string) - original title, in the original language\n",
    "1. isAdult (boolean) - 0: non-adult title; 1: adult title\n",
    "1. startYear (YYYY) – represents the release year of a title. In the case of TV Series, it is the series start year\n",
    "1. endYear (YYYY) – TV Series end year. ‘\\N’ for all other title types\n",
    "1. runtimeMinutes – primary runtime of the title, in minutes\n",
    "1. genres (string array) – includes up to three genres associated with the title\n",
    "\n",
    "### title.crew.tsv.gz – Contains the director and writer information for all the titles in IMDb. Fields include:\n",
    "1. tconst (string) - alphanumeric unique identifier of the title\n",
    "1. directors (array of nconsts) - director(s) of the given title\n",
    "1. writers (array of nconsts) – writer(s) of the given title\n",
    "\n",
    "### title.episode.tsv.gz – Contains the tv episode information. Fields include:\n",
    "1. tconst (string) - alphanumeric identifier of episode\n",
    "1. parentTconst (string) - alphanumeric identifier of the parent TV Series\n",
    "1. seasonNumber (integer) – season number the episode belongs to\n",
    "1. episodeNumber (integer) – episode number of the tconst in the TV series\n",
    "\n",
    "### title.principals.tsv.gz – Contains the principal cast/crew for titles\n",
    "1. tconst (string) - alphanumeric unique identifier of the title\n",
    "1. ordering (integer) – a number to uniquely identify rows for a given titleId\n",
    "1. nconst (string) - alphanumeric unique identifier of the name/person\n",
    "1. category (string) - the category of job that person was in\n",
    "1. job (string) - the specific job title if applicable, else '\\N'\n",
    "1. characters (string) - the name of the character played if applicable, else '\\N'\n",
    "\n",
    "### title.ratings.tsv.gz – Contains the IMDb rating and votes information for titles\n",
    "1. tconst (string) - alphanumeric unique identifier of the title\n",
    "1. averageRating – weighted average of all the individual user ratings\n",
    "1. numVotes - number of votes the title has received\n",
    "\n",
    "### name.basics.tsv.gz – Contains the following information for names:\n",
    "1. nconst (string) - alphanumeric unique identifier of the name/person\n",
    "1. primaryName (string)– name by which the person is most often credited\n",
    "1. birthYear – in YYYY format\n",
    "1. deathYear – in YYYY format if applicable, else '\\N'\n",
    "1. primaryProfession (array of strings)– the top-3 professions of the person\n",
    "1. knownForTitles (array of tconsts) – titles the person is known for"
   ]
  },
  {
   "cell_type": "markdown",
   "id": "05b09957",
   "metadata": {},
   "source": []
  },
  {
   "cell_type": "code",
   "execution_count": null,
   "id": "cc9b525d",
   "metadata": {},
   "outputs": [],
   "source": []
  },
  {
   "cell_type": "markdown",
   "id": "35bab5e1",
   "metadata": {},
   "source": [
    "### cleanup"
   ]
  },
  {
   "cell_type": "code",
   "execution_count": 67,
   "id": "52bf4482",
   "metadata": {
    "scrolled": false
   },
   "outputs": [
    {
     "data": {
      "text/html": [
       "<div>\n",
       "<style scoped>\n",
       "    .dataframe tbody tr th:only-of-type {\n",
       "        vertical-align: middle;\n",
       "    }\n",
       "\n",
       "    .dataframe tbody tr th {\n",
       "        vertical-align: top;\n",
       "    }\n",
       "\n",
       "    .dataframe thead th {\n",
       "        text-align: right;\n",
       "    }\n",
       "</style>\n",
       "<table border=\"1\" class=\"dataframe\">\n",
       "  <thead>\n",
       "    <tr style=\"text-align: right;\">\n",
       "      <th></th>\n",
       "      <th>nconst</th>\n",
       "      <th>primaryName</th>\n",
       "      <th>birthYear</th>\n",
       "      <th>deathYear</th>\n",
       "      <th>primaryProfession</th>\n",
       "      <th>knownForTitles</th>\n",
       "    </tr>\n",
       "  </thead>\n",
       "  <tbody>\n",
       "    <tr>\n",
       "      <th>8836788</th>\n",
       "      <td>nm7164749</td>\n",
       "      <td>Chris Dopper</td>\n",
       "      <td>\\N</td>\n",
       "      <td>\\N</td>\n",
       "      <td>miscellaneous</td>\n",
       "      <td>tt4495056</td>\n",
       "    </tr>\n",
       "    <tr>\n",
       "      <th>8922775</th>\n",
       "      <td>nm7271204</td>\n",
       "      <td>The Escalators</td>\n",
       "      <td>\\N</td>\n",
       "      <td>\\N</td>\n",
       "      <td>composer</td>\n",
       "      <td>tt4617226</td>\n",
       "    </tr>\n",
       "    <tr>\n",
       "      <th>2655130</th>\n",
       "      <td>nm11763044</td>\n",
       "      <td>Zoltán Lénárt</td>\n",
       "      <td>\\N</td>\n",
       "      <td>\\N</td>\n",
       "      <td>NaN</td>\n",
       "      <td>\\N</td>\n",
       "    </tr>\n",
       "    <tr>\n",
       "      <th>10722703</th>\n",
       "      <td>nm9457810</td>\n",
       "      <td>David Manning</td>\n",
       "      <td>\\N</td>\n",
       "      <td>\\N</td>\n",
       "      <td>actor</td>\n",
       "      <td>tt1363105,tt14603048,tt9159144</td>\n",
       "    </tr>\n",
       "    <tr>\n",
       "      <th>9229335</th>\n",
       "      <td>nm7648015</td>\n",
       "      <td>Linn Neerland</td>\n",
       "      <td>\\N</td>\n",
       "      <td>\\N</td>\n",
       "      <td>make_up_department</td>\n",
       "      <td>tt5106038</td>\n",
       "    </tr>\n",
       "  </tbody>\n",
       "</table>\n",
       "</div>"
      ],
      "text/plain": [
       "              nconst     primaryName birthYear deathYear   primaryProfession  \\\n",
       "8836788    nm7164749    Chris Dopper        \\N        \\N       miscellaneous   \n",
       "8922775    nm7271204  The Escalators        \\N        \\N            composer   \n",
       "2655130   nm11763044   Zoltán Lénárt        \\N        \\N                 NaN   \n",
       "10722703   nm9457810   David Manning        \\N        \\N               actor   \n",
       "9229335    nm7648015   Linn Neerland        \\N        \\N  make_up_department   \n",
       "\n",
       "                          knownForTitles  \n",
       "8836788                        tt4495056  \n",
       "8922775                        tt4617226  \n",
       "2655130                               \\N  \n",
       "10722703  tt1363105,tt14603048,tt9159144  \n",
       "9229335                        tt5106038  "
      ]
     },
     "execution_count": 67,
     "metadata": {},
     "output_type": "execute_result"
    }
   ],
   "source": [
    "name_basics_s.head()"
   ]
  },
  {
   "cell_type": "code",
   "execution_count": 68,
   "id": "8d76f3c3",
   "metadata": {},
   "outputs": [],
   "source": [
    "name_basics_s.knownForTitles = name_basics_s.knownForTitles.str.split(',')\n",
    "name_basics_s.primaryProfession = name_basics_s.primaryProfession.str.split(',')"
   ]
  },
  {
   "cell_type": "code",
   "execution_count": 69,
   "id": "a957f58d",
   "metadata": {},
   "outputs": [],
   "source": [
    "name_basics_s = name_basics_s.explode('primaryProfession')\n",
    "name_basics_s = name_basics_s.explode('knownForTitles')"
   ]
  },
  {
   "cell_type": "code",
   "execution_count": 70,
   "id": "2d3f75a9",
   "metadata": {},
   "outputs": [
    {
     "data": {
      "text/html": [
       "<div>\n",
       "<style scoped>\n",
       "    .dataframe tbody tr th:only-of-type {\n",
       "        vertical-align: middle;\n",
       "    }\n",
       "\n",
       "    .dataframe tbody tr th {\n",
       "        vertical-align: top;\n",
       "    }\n",
       "\n",
       "    .dataframe thead th {\n",
       "        text-align: right;\n",
       "    }\n",
       "</style>\n",
       "<table border=\"1\" class=\"dataframe\">\n",
       "  <thead>\n",
       "    <tr style=\"text-align: right;\">\n",
       "      <th></th>\n",
       "      <th>nconst</th>\n",
       "      <th>primaryName</th>\n",
       "      <th>birthYear</th>\n",
       "      <th>deathYear</th>\n",
       "      <th>primaryProfession</th>\n",
       "      <th>knownForTitles</th>\n",
       "    </tr>\n",
       "  </thead>\n",
       "  <tbody>\n",
       "    <tr>\n",
       "      <th>8836788</th>\n",
       "      <td>nm7164749</td>\n",
       "      <td>Chris Dopper</td>\n",
       "      <td>\\N</td>\n",
       "      <td>\\N</td>\n",
       "      <td>miscellaneous</td>\n",
       "      <td>tt4495056</td>\n",
       "    </tr>\n",
       "    <tr>\n",
       "      <th>8922775</th>\n",
       "      <td>nm7271204</td>\n",
       "      <td>The Escalators</td>\n",
       "      <td>\\N</td>\n",
       "      <td>\\N</td>\n",
       "      <td>composer</td>\n",
       "      <td>tt4617226</td>\n",
       "    </tr>\n",
       "    <tr>\n",
       "      <th>2655130</th>\n",
       "      <td>nm11763044</td>\n",
       "      <td>Zoltán Lénárt</td>\n",
       "      <td>\\N</td>\n",
       "      <td>\\N</td>\n",
       "      <td>NaN</td>\n",
       "      <td>\\N</td>\n",
       "    </tr>\n",
       "    <tr>\n",
       "      <th>10722703</th>\n",
       "      <td>nm9457810</td>\n",
       "      <td>David Manning</td>\n",
       "      <td>\\N</td>\n",
       "      <td>\\N</td>\n",
       "      <td>actor</td>\n",
       "      <td>tt1363105</td>\n",
       "    </tr>\n",
       "    <tr>\n",
       "      <th>10722703</th>\n",
       "      <td>nm9457810</td>\n",
       "      <td>David Manning</td>\n",
       "      <td>\\N</td>\n",
       "      <td>\\N</td>\n",
       "      <td>actor</td>\n",
       "      <td>tt14603048</td>\n",
       "    </tr>\n",
       "    <tr>\n",
       "      <th>...</th>\n",
       "      <td>...</td>\n",
       "      <td>...</td>\n",
       "      <td>...</td>\n",
       "      <td>...</td>\n",
       "      <td>...</td>\n",
       "      <td>...</td>\n",
       "    </tr>\n",
       "    <tr>\n",
       "      <th>167156</th>\n",
       "      <td>nm0175905</td>\n",
       "      <td>Robert Consentino</td>\n",
       "      <td>\\N</td>\n",
       "      <td>\\N</td>\n",
       "      <td>camera_department</td>\n",
       "      <td>tt0120402</td>\n",
       "    </tr>\n",
       "    <tr>\n",
       "      <th>167156</th>\n",
       "      <td>nm0175905</td>\n",
       "      <td>Robert Consentino</td>\n",
       "      <td>\\N</td>\n",
       "      <td>\\N</td>\n",
       "      <td>camera_department</td>\n",
       "      <td>tt0119525</td>\n",
       "    </tr>\n",
       "    <tr>\n",
       "      <th>167156</th>\n",
       "      <td>nm0175905</td>\n",
       "      <td>Robert Consentino</td>\n",
       "      <td>\\N</td>\n",
       "      <td>\\N</td>\n",
       "      <td>camera_department</td>\n",
       "      <td>tt0116353</td>\n",
       "    </tr>\n",
       "    <tr>\n",
       "      <th>167156</th>\n",
       "      <td>nm0175905</td>\n",
       "      <td>Robert Consentino</td>\n",
       "      <td>\\N</td>\n",
       "      <td>\\N</td>\n",
       "      <td>camera_department</td>\n",
       "      <td>tt0365918</td>\n",
       "    </tr>\n",
       "    <tr>\n",
       "      <th>6249677</th>\n",
       "      <td>nm4091677</td>\n",
       "      <td>Jesse Jones</td>\n",
       "      <td>\\N</td>\n",
       "      <td>\\N</td>\n",
       "      <td>actor</td>\n",
       "      <td>tt1730236</td>\n",
       "    </tr>\n",
       "  </tbody>\n",
       "</table>\n",
       "<p>133756 rows × 6 columns</p>\n",
       "</div>"
      ],
      "text/plain": [
       "              nconst        primaryName birthYear deathYear  \\\n",
       "8836788    nm7164749       Chris Dopper        \\N        \\N   \n",
       "8922775    nm7271204     The Escalators        \\N        \\N   \n",
       "2655130   nm11763044      Zoltán Lénárt        \\N        \\N   \n",
       "10722703   nm9457810      David Manning        \\N        \\N   \n",
       "10722703   nm9457810      David Manning        \\N        \\N   \n",
       "...              ...                ...       ...       ...   \n",
       "167156     nm0175905  Robert Consentino        \\N        \\N   \n",
       "167156     nm0175905  Robert Consentino        \\N        \\N   \n",
       "167156     nm0175905  Robert Consentino        \\N        \\N   \n",
       "167156     nm0175905  Robert Consentino        \\N        \\N   \n",
       "6249677    nm4091677        Jesse Jones        \\N        \\N   \n",
       "\n",
       "          primaryProfession knownForTitles  \n",
       "8836788       miscellaneous      tt4495056  \n",
       "8922775            composer      tt4617226  \n",
       "2655130                 NaN             \\N  \n",
       "10722703              actor      tt1363105  \n",
       "10722703              actor     tt14603048  \n",
       "...                     ...            ...  \n",
       "167156    camera_department      tt0120402  \n",
       "167156    camera_department      tt0119525  \n",
       "167156    camera_department      tt0116353  \n",
       "167156    camera_department      tt0365918  \n",
       "6249677               actor      tt1730236  \n",
       "\n",
       "[133756 rows x 6 columns]"
      ]
     },
     "execution_count": 70,
     "metadata": {},
     "output_type": "execute_result"
    }
   ],
   "source": [
    "name_basics_s"
   ]
  },
  {
   "cell_type": "code",
   "execution_count": 82,
   "id": "3c2da533",
   "metadata": {
    "scrolled": true
   },
   "outputs": [
    {
     "data": {
      "text/html": [
       "<div>\n",
       "<style scoped>\n",
       "    .dataframe tbody tr th:only-of-type {\n",
       "        vertical-align: middle;\n",
       "    }\n",
       "\n",
       "    .dataframe tbody tr th {\n",
       "        vertical-align: top;\n",
       "    }\n",
       "\n",
       "    .dataframe thead th {\n",
       "        text-align: right;\n",
       "    }\n",
       "</style>\n",
       "<table border=\"1\" class=\"dataframe\">\n",
       "  <thead>\n",
       "    <tr style=\"text-align: right;\">\n",
       "      <th></th>\n",
       "      <th>titleId</th>\n",
       "      <th>ordering</th>\n",
       "      <th>title</th>\n",
       "      <th>region</th>\n",
       "      <th>language</th>\n",
       "      <th>types</th>\n",
       "      <th>attributes</th>\n",
       "      <th>isOriginalTitle</th>\n",
       "    </tr>\n",
       "  </thead>\n",
       "  <tbody>\n",
       "    <tr>\n",
       "      <th>19082887</th>\n",
       "      <td>tt3533198</td>\n",
       "      <td>1</td>\n",
       "      <td>Episodio datato 26 febbraio 2014</td>\n",
       "      <td>IT</td>\n",
       "      <td>it</td>\n",
       "      <td>\\N</td>\n",
       "      <td>\\N</td>\n",
       "      <td>0</td>\n",
       "    </tr>\n",
       "    <tr>\n",
       "      <th>2100740</th>\n",
       "      <td>tt0541436</td>\n",
       "      <td>5</td>\n",
       "      <td>Folge vom 24. Dezember 2005</td>\n",
       "      <td>DE</td>\n",
       "      <td>de</td>\n",
       "      <td>\\N</td>\n",
       "      <td>\\N</td>\n",
       "      <td>0</td>\n",
       "    </tr>\n",
       "    <tr>\n",
       "      <th>1700681</th>\n",
       "      <td>tt0379221</td>\n",
       "      <td>2</td>\n",
       "      <td>Le comédien</td>\n",
       "      <td>\\N</td>\n",
       "      <td>\\N</td>\n",
       "      <td>original</td>\n",
       "      <td>\\N</td>\n",
       "      <td>1</td>\n",
       "    </tr>\n",
       "    <tr>\n",
       "      <th>5183401</th>\n",
       "      <td>tt10851034</td>\n",
       "      <td>7</td>\n",
       "      <td>Episodio #1.46</td>\n",
       "      <td>ES</td>\n",
       "      <td>es</td>\n",
       "      <td>\\N</td>\n",
       "      <td>\\N</td>\n",
       "      <td>0</td>\n",
       "    </tr>\n",
       "    <tr>\n",
       "      <th>20813597</th>\n",
       "      <td>tt4734304</td>\n",
       "      <td>7</td>\n",
       "      <td>Episodio #1.23</td>\n",
       "      <td>ES</td>\n",
       "      <td>es</td>\n",
       "      <td>\\N</td>\n",
       "      <td>\\N</td>\n",
       "      <td>0</td>\n",
       "    </tr>\n",
       "  </tbody>\n",
       "</table>\n",
       "</div>"
      ],
      "text/plain": [
       "             titleId  ordering                             title region  \\\n",
       "19082887   tt3533198         1  Episodio datato 26 febbraio 2014     IT   \n",
       "2100740    tt0541436         5       Folge vom 24. Dezember 2005     DE   \n",
       "1700681    tt0379221         2                       Le comédien     \\N   \n",
       "5183401   tt10851034         7                    Episodio #1.46     ES   \n",
       "20813597   tt4734304         7                    Episodio #1.23     ES   \n",
       "\n",
       "         language     types attributes isOriginalTitle  \n",
       "19082887       it        \\N         \\N               0  \n",
       "2100740        de        \\N         \\N               0  \n",
       "1700681        \\N  original         \\N               1  \n",
       "5183401        es        \\N         \\N               0  \n",
       "20813597       es        \\N         \\N               0  "
      ]
     },
     "execution_count": 82,
     "metadata": {},
     "output_type": "execute_result"
    }
   ],
   "source": [
    "akas_s.head()"
   ]
  },
  {
   "cell_type": "code",
   "execution_count": 72,
   "id": "c9725093",
   "metadata": {},
   "outputs": [],
   "source": [
    "akas_s = akas[['titleId', 'region']]"
   ]
  },
  {
   "cell_type": "code",
   "execution_count": 83,
   "id": "ff9eab5a",
   "metadata": {},
   "outputs": [
    {
     "data": {
      "text/html": [
       "<div>\n",
       "<style scoped>\n",
       "    .dataframe tbody tr th:only-of-type {\n",
       "        vertical-align: middle;\n",
       "    }\n",
       "\n",
       "    .dataframe tbody tr th {\n",
       "        vertical-align: top;\n",
       "    }\n",
       "\n",
       "    .dataframe thead th {\n",
       "        text-align: right;\n",
       "    }\n",
       "</style>\n",
       "<table border=\"1\" class=\"dataframe\">\n",
       "  <thead>\n",
       "    <tr style=\"text-align: right;\">\n",
       "      <th></th>\n",
       "      <th>titleId</th>\n",
       "      <th>ordering</th>\n",
       "      <th>title</th>\n",
       "      <th>region</th>\n",
       "      <th>language</th>\n",
       "      <th>types</th>\n",
       "      <th>attributes</th>\n",
       "      <th>isOriginalTitle</th>\n",
       "    </tr>\n",
       "  </thead>\n",
       "  <tbody>\n",
       "    <tr>\n",
       "      <th>1032103</th>\n",
       "      <td>tt0146645</td>\n",
       "      <td>6</td>\n",
       "      <td>Dosti</td>\n",
       "      <td>IN</td>\n",
       "      <td>en</td>\n",
       "      <td>imdbDisplay</td>\n",
       "      <td>\\N</td>\n",
       "      <td>0</td>\n",
       "    </tr>\n",
       "    <tr>\n",
       "      <th>8824890</th>\n",
       "      <td>tt12504876</td>\n",
       "      <td>4</td>\n",
       "      <td>एपिसोड #1.2</td>\n",
       "      <td>IN</td>\n",
       "      <td>hi</td>\n",
       "      <td>\\N</td>\n",
       "      <td>\\N</td>\n",
       "      <td>0</td>\n",
       "    </tr>\n",
       "  </tbody>\n",
       "</table>\n",
       "</div>"
      ],
      "text/plain": [
       "            titleId  ordering        title region language        types  \\\n",
       "1032103   tt0146645         6        Dosti     IN       en  imdbDisplay   \n",
       "8824890  tt12504876         4  एपिसोड #1.2     IN       hi           \\N   \n",
       "\n",
       "        attributes isOriginalTitle  \n",
       "1032103         \\N               0  \n",
       "8824890         \\N               0  "
      ]
     },
     "execution_count": 83,
     "metadata": {},
     "output_type": "execute_result"
    }
   ],
   "source": [
    "akas_s[akas_s['region']== 'IN'].head(2)"
   ]
  },
  {
   "cell_type": "code",
   "execution_count": null,
   "id": "72b50a6a",
   "metadata": {},
   "outputs": [],
   "source": [
    "title_basics.head(2)"
   ]
  },
  {
   "cell_type": "code",
   "execution_count": null,
   "id": "e6c501d5",
   "metadata": {},
   "outputs": [],
   "source": []
  },
  {
   "cell_type": "code",
   "execution_count": 84,
   "id": "a610b0cf",
   "metadata": {},
   "outputs": [
    {
     "data": {
      "text/plain": [
       "FR    3407030\n",
       "JP    3401420\n",
       "DE    3363977\n",
       "ES    3332361\n",
       "IN    3323971\n",
       "       ...   \n",
       "TV          1\n",
       "NR          1\n",
       "TC          1\n",
       "NU          1\n",
       "FM          1\n",
       "Name: region, Length: 247, dtype: int64"
      ]
     },
     "execution_count": 84,
     "metadata": {},
     "output_type": "execute_result"
    }
   ],
   "source": [
    "akas.region.value_counts()"
   ]
  },
  {
   "cell_type": "code",
   "execution_count": 118,
   "id": "e761fe5d",
   "metadata": {},
   "outputs": [
    {
     "data": {
      "image/png": "[encoded data removed]",
      "text/plain": [
       "<Figure size 576x432 with 1 Axes>"
      ]
     },
     "metadata": {
      "needs_background": "light"
     },
     "output_type": "display_data"
    }
   ],
   "source": [
    "akas.region.value_counts()[:20].sort_values().plot(kind='barh', figsize=(8, 6))\n",
    "plt.xlabel(\"Count of Movies\", labelpad=12)\n",
    "plt.ylabel(\"Country\", labelpad=12)\n",
    "plt.title(\"Count of Movies by Country (Top 20)\", y=1.05);\n",
    "plt.show()"
   ]
  },
  {
   "cell_type": "code",
   "execution_count": 107,
   "id": "ee88caec",
   "metadata": {},
   "outputs": [],
   "source": [
    "top_countries = akas.region.value_counts()[:20].index"
   ]
  },
  {
   "cell_type": "code",
   "execution_count": null,
   "id": "48b43b41",
   "metadata": {},
   "outputs": [],
   "source": []
  },
  {
   "cell_type": "code",
   "execution_count": null,
   "id": "57a61201",
   "metadata": {},
   "outputs": [],
   "source": []
  }
 ],
 "metadata": {
  "kernelspec": {
   "display_name": "Python 3",
   "language": "python",
   "name": "python3"
  }
 },
 "nbformat": 4,
 "nbformat_minor": 5
}
